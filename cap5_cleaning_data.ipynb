{
 "cells": [
  {
   "cell_type": "code",
   "execution_count": 15,
   "metadata": {},
   "outputs": [],
   "source": [
    "# summarize the number of unique values for each column using numpy\n",
    "from numpy import loadtxt\n",
    "from numpy import unique\n",
    "import requests\n",
    "from pandas import read_csv\n",
    "import pandas as pd"
   ]
  },
  {
   "cell_type": "code",
   "execution_count": 25,
   "metadata": {},
   "outputs": [],
   "source": [
    "req = requests.get(\"https://raw.githubusercontent.com/jbrownlee/Datasets/master/oil-spill.csv\")\n",
    "url_content = req.content\n",
    "csv_file = open('oil-spill.csv', 'wb')\n",
    "\n",
    "csv_file.write(url_content)\n",
    "csv_file.close()\n"
   ]
  },
  {
   "cell_type": "code",
   "execution_count": 2,
   "metadata": {},
   "outputs": [
    {
     "ename": "NameError",
     "evalue": "name 'pd' is not defined",
     "output_type": "error",
     "traceback": [
      "\u001b[0;31m---------------------------------------------------------------------------\u001b[0m",
      "\u001b[0;31mNameError\u001b[0m                                 Traceback (most recent call last)",
      "\u001b[1;32m/media/leohfigueiredo/Elements/Backups/Desktop/Arquivos_para_estudo/Machine_Learning/ml_estudo/cap5_cleaning_data.ipynb Cell 3'\u001b[0m in \u001b[0;36m<cell line: 1>\u001b[0;34m()\u001b[0m\n\u001b[0;32m----> <a href='vscode-notebook-cell:/media/leohfigueiredo/Elements/Backups/Desktop/Arquivos_para_estudo/Machine_Learning/ml_estudo/cap5_cleaning_data.ipynb#ch0000002?line=0'>1</a>\u001b[0m data_csv \u001b[39m=\u001b[39m pd\u001b[39m.\u001b[39mread_csv(\u001b[39m\"\u001b[39m\u001b[39mhttps://raw.githubusercontent.com/jbrownlee/Datasets/master/oil-spill.csv\u001b[39m\u001b[39m\"\u001b[39m)\n\u001b[1;32m      <a href='vscode-notebook-cell:/media/leohfigueiredo/Elements/Backups/Desktop/Arquivos_para_estudo/Machine_Learning/ml_estudo/cap5_cleaning_data.ipynb#ch0000002?line=1'>2</a>\u001b[0m \u001b[39mprint\u001b[39m(data_csv\u001b[39m.\u001b[39mshape)\n",
      "\u001b[0;31mNameError\u001b[0m: name 'pd' is not defined"
     ]
    }
   ],
   "source": [
    "data_csv = pd.read_csv(\"https://raw.githubusercontent.com/jbrownlee/Datasets/master/oil-spill.csv\")\n",
    "print(data_csv.shape)\n",
    "\n"
   ]
  },
  {
   "cell_type": "code",
   "execution_count": 29,
   "metadata": {},
   "outputs": [
    {
     "name": "stdout",
     "output_type": "stream",
     "text": [
      "Count of all values wrt rows\n",
      "0      50\n",
      "1      50\n",
      "2      50\n",
      "3      50\n",
      "4      50\n",
      "       ..\n",
      "931    50\n",
      "932    50\n",
      "933    50\n",
      "934    50\n",
      "935    50\n",
      "Length: 936, dtype: int64\n"
     ]
    }
   ],
   "source": [
    "# Count according to rows\n",
    "print(\"Count of all values wrt rows\")\n",
    "print(data_csv.count(axis=1))"
   ]
  },
  {
   "cell_type": "code",
   "execution_count": 31,
   "metadata": {},
   "outputs": [
    {
     "name": "stdout",
     "output_type": "stream",
     "text": [
      "0      42\n",
      "1      48\n",
      "2      47\n",
      "3      45\n",
      "4      47\n",
      "       ..\n",
      "931    46\n",
      "932    46\n",
      "933    44\n",
      "934    46\n",
      "935    46\n",
      "Length: 936, dtype: int64\n"
     ]
    }
   ],
   "source": [
    "#For the number of non-zeros in each row use\n",
    "print(data_csv.astype(bool).sum(axis=1))"
   ]
  },
  {
   "cell_type": "code",
   "execution_count": 33,
   "metadata": {},
   "outputs": [
    {
     "name": "stdout",
     "output_type": "stream",
     "text": [
      "1           238\n",
      "2558        296\n",
      "1506.09     926\n",
      "456.63      932\n",
      "90          179\n",
      "6395000     374\n",
      "40.88       819\n",
      "7.89        617\n",
      "29780       560\n",
      "0.19         57\n",
      "214.7       576\n",
      "0.21         59\n",
      "0.26         73\n",
      "0.49        107\n",
      "0.1          53\n",
      "0.4          91\n",
      "99.59       892\n",
      "32.19       809\n",
      "1.84        169\n",
      "0.16         53\n",
      "0.2          68\n",
      "87.65         9\n",
      "0             1\n",
      "0.47         92\n",
      "132.78        9\n",
      "-0.01         8\n",
      "3.78          9\n",
      "0.22        308\n",
      "3.2         447\n",
      "-3.71       391\n",
      "-0.18       107\n",
      "2.19         42\n",
      "0.3           4\n",
      "2.19.1       45\n",
      "310         141\n",
      "16110       110\n",
      "0.5           3\n",
      "138.68      757\n",
      "89            9\n",
      "69            9\n",
      "2850        387\n",
      "1000        219\n",
      "763.16      643\n",
      "135.46      648\n",
      "3.73        499\n",
      "0.6           2\n",
      "33243.19    936\n",
      "65.74       169\n",
      "7.95        286\n",
      "1.1           2\n",
      "dtype: int64\n"
     ]
    }
   ],
   "source": [
    "#Count of unique values in each column\n",
    "print(data_csv.nunique())"
   ]
  }
 ],
 "metadata": {
  "kernelspec": {
   "display_name": "Python 3.9.2 ('py-3.9')",
   "language": "python",
   "name": "python3"
  },
  "language_info": {
   "codemirror_mode": {
    "name": "ipython",
    "version": 3
   },
   "file_extension": ".py",
   "mimetype": "text/x-python",
   "name": "python",
   "nbconvert_exporter": "python",
   "pygments_lexer": "ipython3",
   "version": "3.9.2"
  },
  "orig_nbformat": 4,
  "vscode": {
   "interpreter": {
    "hash": "8d4b04761078b4e7a8d8e80f2e42cec35678f80fe5613a24296c47ae87b7417e"
   }
  }
 },
 "nbformat": 4,
 "nbformat_minor": 2
}
